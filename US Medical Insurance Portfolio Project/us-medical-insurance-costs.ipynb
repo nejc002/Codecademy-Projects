{
 "cells": [
  {
   "cell_type": "markdown",
   "metadata": {},
   "source": [
    "# U.S. Medical Insurance"
   ]
  },
  {
   "cell_type": "markdown",
   "metadata": {},
   "source": [
    "This is Nejc's portfolio project called U.S. Medical Insurance, which is a part of the Data Scientist: Analytics Specialist career pathway specialization on the Codecademy, an online provider of programming education, training and knowledge.\n",
    "\n",
    "In the document below, there is a python code, which goes through a Microsoft Excel file called insurance, and analyzes it through reading the file, the collection and formation of the data, as well as running through the python functions to come to new findings about the data, such as the average age, bmi score, and average cost of medical insurance, aswell as it brings us to the information on how gender, number of children, smoking, and living area affect the medical insurance costs."
   ]
  },
  {
   "cell_type": "markdown",
   "metadata": {},
   "source": [
    "## Project Objectives"
   ]
  },
  {
   "cell_type": "markdown",
   "metadata": {},
   "source": [
    "The objectives of this project are to obtain information regarding the\n",
    "+ number of individuals in the dataset, proportion of males and females\n",
    "+ average, maximum and minimum values of age, BMI score, number of children and medical insurance cost\n",
    "+ number of smokers and non-smokers\n",
    "+ number of residents in different regions\n",
    "\n",
    "As a result, we want to get to the conclusion of how different variables effect the cost of medical insurance."
   ]
  },
  {
   "cell_type": "code",
   "execution_count": 1,
   "metadata": {},
   "outputs": [],
   "source": [
    "# importing csv and json libraries\n",
    "import csv"
   ]
  },
  {
   "cell_type": "code",
   "execution_count": 2,
   "metadata": {},
   "outputs": [],
   "source": [
    "# creating empty lists of properties in csv file\n",
    "age = []\n",
    "sex = []\n",
    "bmi = []\n",
    "children = []\n",
    "smoker = []\n",
    "region = []\n",
    "charges = []"
   ]
  },
  {
   "cell_type": "code",
   "execution_count": 3,
   "metadata": {},
   "outputs": [],
   "source": [
    "# reading through the csv file, plus collecting and formating the data into a table\n",
    "with open(\"insurance.csv\", \"r\") as insurance_file:\n",
    "    insurance_data = csv.DictReader(insurance_file)\n",
    "    for row in insurance_data:\n",
    "        age.append(int(row['age']))\n",
    "        sex.append(row['sex'])\n",
    "        bmi.append(float(row['bmi']))\n",
    "        children.append(int(row['children']))\n",
    "        smoker.append(row['smoker'])\n",
    "        region.append(row['region'])\n",
    "        charges.append(float(row['charges']))"
   ]
  },
  {
   "cell_type": "code",
   "execution_count": 4,
   "metadata": {},
   "outputs": [
    {
     "name": "stdout",
     "output_type": "stream",
     "text": [
      "Number of individuals in the dataset is 1338,\n",
      "of which, 676 are males, which is 50.5% of the total population;\n",
      "and of which, 662 are females, which is 49.5% of the total population.\n"
     ]
    }
   ],
   "source": [
    "# information regarding the number of individuals in the dataset, by counting the columns\n",
    "num_of_population = len(age)\n",
    "num_of_males = sex.count(\"male\")\n",
    "num_of_females = sex.count(\"female\")\n",
    "print(\"Number of individuals in the dataset is \" +str(num_of_population) + \",\")\n",
    "print(\"of which, \" + str(num_of_males) + \" are males, which is \" + str(round(num_of_males/num_of_population*100,1)) + \"% of the total population;\")\n",
    "print(\"and of which, \" + str(num_of_females) + \" are females, which is \" + str(round(num_of_females/num_of_population*100,1)) + \"% of the total population.\")"
   ]
  },
  {
   "cell_type": "markdown",
   "metadata": {},
   "source": [
    "## Ages"
   ]
  },
  {
   "cell_type": "code",
   "execution_count": 5,
   "metadata": {},
   "outputs": [
    {
     "name": "stdout",
     "output_type": "stream",
     "text": [
      "Average age among the whole list of individuals is 39.21\n",
      "The oldest individuals on the list have 64 years, and there are 22 of them.\n",
      "The youngest individuals on the list thus have 18 years, and there are 69 of them.\n"
     ]
    }
   ],
   "source": [
    "# getting the average age information\n",
    "avg_age = sum(age) / len(age)\n",
    "oldest = max(age)\n",
    "youngest = min(age)\n",
    "\n",
    "num_of_oldest = age.count(64)\n",
    "num_of_youngest = age.count(18)\n",
    "\n",
    "print(\"Average age among the whole list of individuals is\",round(avg_age,2),)\n",
    "print(\"The oldest individuals on the list have \" + str(oldest) + \" years, and there are \" + str(num_of_oldest) + \" of them.\")\n",
    "print(\"The youngest individuals on the list thus have \" + str(youngest) + \" years, and there are \" + str(num_of_youngest) + \" of them.\")"
   ]
  },
  {
   "cell_type": "markdown",
   "metadata": {},
   "source": [
    "## BMI"
   ]
  },
  {
   "cell_type": "code",
   "execution_count": 6,
   "metadata": {},
   "outputs": [
    {
     "name": "stdout",
     "output_type": "stream",
     "text": [
      "Average BMI score among the individuals in the dataset is 30.66\n",
      "The lowest BMI score is 15.96, and the highest is 53.13.\n",
      "Amount of underweight individuals is 3, which is 0.2% of the total population, and of that, regarding the gender, 2 are males, and 1 are females.\n",
      "Number of individuals with normal BMI score is 616, which is 46.0% of the total population, and of that, 298 are males, and 318 are females.\n",
      "Amount of overweight individuals is 616, which is 46.0% of the total population, and of that, 322 are males, 294 are females.\n"
     ]
    }
   ],
   "source": [
    "avg_bmi = sum(bmi) / len(bmi)\n",
    "lowest_bmi = min(bmi)\n",
    "highest_bmi = max(bmi)\n",
    "\n",
    "\n",
    "underweight = 0\n",
    "normal = 0\n",
    "overweight = 0\n",
    "\n",
    "bmi_male = {'underweight' : 0,\n",
    "    'normal' : 0,\n",
    "    'overweight' : 0\n",
    "           }\n",
    "bmi_female = {'underweight' : 0,\n",
    "    'normal' : 0,\n",
    "    'overweight' : 0\n",
    "             }\n",
    "\n",
    "for index in range(num_of_population):\n",
    "    if bmi[index] < 16.9:\n",
    "        underweight += 1\n",
    "        if sex[index] == 'male':\n",
    "            bmi_male['underweight'] += 1\n",
    "        else:\n",
    "            bmi_female['underweight'] += 1\n",
    "    elif bmi[index] >= 17 and bmi[index] < 29.9:\n",
    "        normal += 1\n",
    "        if sex[index] == 'male':\n",
    "            bmi_male['normal'] += 1\n",
    "        else:\n",
    "            bmi_female['normal'] += 1\n",
    "    elif bmi[index] >= 30 and bmi[index] < 40:\n",
    "        overweight += 1\n",
    "        if sex[index] == 'male':\n",
    "            bmi_male['overweight'] += 1\n",
    "        else:\n",
    "            bmi_female['overweight'] += 1\n",
    "\n",
    "print(\"Average BMI score among the individuals in the dataset is\",round(avg_bmi,2))\n",
    "print(\"The lowest BMI score is \" + str(lowest_bmi) + \", and the highest is \" + str(highest_bmi) + \".\")\n",
    "print(\"Amount of underweight individuals is \" + str(underweight) + \", which is \" + str(round(underweight/num_of_population * 100,1)) + \"% of the total population, and of that, regarding the gender, \" + str(round(bmi_male[\"underweight\"])) + \" are males, and \" + str(round(bmi_female[\"underweight\"])) + \" are females.\")\n",
    "print(\"Number of individuals with normal BMI score is \" + str(normal) + \", which is \" + str(round(normal/num_of_population * 100,1)) + \"% of the total population, and of that, \" + str(round(bmi_male['normal'])) + \" are males, and \" + str(round(bmi_female['normal'])) + \" are females.\")\n",
    "print(\"Amount of overweight individuals is \" + str(overweight) + \", which is \" + str(round(overweight/num_of_population * 100,1)) + \"% of the total population, and of that, \" + str(round(bmi_male['overweight'])) + \" are males, \" + str(round(bmi_female['overweight'])) + \" are females.\")"
   ]
  },
  {
   "cell_type": "markdown",
   "metadata": {},
   "source": [
    "## Children"
   ]
  },
  {
   "cell_type": "code",
   "execution_count": 7,
   "metadata": {},
   "outputs": [
    {
     "name": "stdout",
     "output_type": "stream",
     "text": [
      "Total amount of children, registered in the database is 1465,\n",
      "while the average number of children on the individual is  1.09\n",
      "Maximum amount of children registered to an individual is 5,\n",
      "and the lowest amount of children registered to an individual is 0.\n"
     ]
    }
   ],
   "source": [
    "count_of_children = sum(children)\n",
    "avg_num_children = count_of_children / len(children)\n",
    "max_children = max(children)\n",
    "min_children = min(children)\n",
    "\n",
    "print(\"Total amount of children, registered in the database is \" + str(count_of_children) + \",\")\n",
    "print(\"while the average number of children on the individual is \",round(avg_num_children,2))\n",
    "print(\"Maximum amount of children registered to an individual is \" + str(max_children) + \",\")\n",
    "print(\"and the lowest amount of children registered to an individual is \" + str(min_children) + \".\")"
   ]
  },
  {
   "cell_type": "code",
   "execution_count": 8,
   "metadata": {},
   "outputs": [
    {
     "name": "stdout",
     "output_type": "stream",
     "text": [
      "The number of people without children is 574, or 42.9% of the total population,\n",
      "number of individuals with only one child is 324, or 24.22% of the total population,\n",
      "number of individuals with two childs is 240, or 17.94% of the total population,\n",
      "number of individuals with three children is 157, or 11.73% of the total population,\n",
      "number of individuals with four children is 25, or 1.87% of the total population,\n",
      "and the number of individuals with five or maximum number of children is 18, or 1.35% of the total population,\n"
     ]
    }
   ],
   "source": [
    "min_child_count = children.count(0)\n",
    "one_child = children.count(1)\n",
    "two_child = children.count(2)\n",
    "three_child = children.count(3)\n",
    "four_child = children.count(4)\n",
    "max_child_count = children.count(5)\n",
    "\n",
    "print(\"The number of people without children is \"+ str(min_child_count) + \", or \" + str(round(min_child_count/num_of_population * 100,2)) + \"% of the total population,\")\n",
    "print(\"number of individuals with only one child is \" + str(one_child) + \", or \" + str(round(one_child/num_of_population * 100,2)) + \"% of the total population,\")\n",
    "print(\"number of individuals with two childs is \" + str(two_child) + \", or \" + str(round(two_child/num_of_population * 100,2)) + \"% of the total population,\")\n",
    "print(\"number of individuals with three children is \" + str(three_child) + \", or \" + str(round(three_child/num_of_population * 100,2)) + \"% of the total population,\")\n",
    "print(\"number of individuals with four children is \" + str(four_child) + \", or \" + str(round(four_child/num_of_population * 100,2)) + \"% of the total population,\")\n",
    "print(\"and the number of individuals with five or maximum number of children is \" + str(max_child_count) + \", or \" +str(round(max_child_count/num_of_population * 100,2)) + \"% of the total population,\")"
   ]
  },
  {
   "cell_type": "markdown",
   "metadata": {},
   "source": [
    "## Smokers"
   ]
  },
  {
   "cell_type": "code",
   "execution_count": 9,
   "metadata": {},
   "outputs": [
    {
     "name": "stdout",
     "output_type": "stream",
     "text": [
      "Number of smokers in the dataset is 274, which is 20.5% of the total population.\n",
      "Number of non-smokers in the dataset is 1064, which is 79.5% of the total population.\n",
      "Regarding the gender, there are 159 male smokers, which is 58.0% of the total smokers, \n",
      "and 115 female smokers, which is 42.0% of the total smokers.\n"
     ]
    }
   ],
   "source": [
    "# counting the number of smokers and non-smokers\n",
    "number_of_smokers = smoker.count(\"yes\")\n",
    "number_of_non_smokers = smoker.count(\"no\")\n",
    "\n",
    "# creating a dictionary to count number of male and female smokers\n",
    "sex_smoker={'male':[], 'female':[]}\n",
    "\n",
    "for count in range(len(sex)):\n",
    "    if sex[count] == \"male\":\n",
    "        sex_smoker[\"male\"].append(smoker[count])\n",
    "    elif sex[count] == \"female\":\n",
    "        sex_smoker[\"female\"].append(smoker[count])\n",
    "\n",
    "male_smokers_count = sex_smoker[\"male\"].count(\"yes\")\n",
    "female_smokers_count = sex_smoker[\"female\"].count(\"yes\")\n",
    "\n",
    "print(\"Number of smokers in the dataset is \" + str(number_of_smokers) + \", which is \" + str(round(number_of_smokers/num_of_population*100,1)) + \"% of the total population.\")\n",
    "print(\"Number of non-smokers in the dataset is \" + str(number_of_non_smokers) + \", which is \" + str(round(number_of_non_smokers/num_of_population*100,1)) + \"% of the total population.\")\n",
    "print(\"Regarding the gender, there are \" + str(male_smokers_count) + \" male smokers, which is \" + str(round(male_smokers_count/number_of_smokers*100,1)) + \"% of the total smokers, \")\n",
    "print(\"and \" + str(female_smokers_count) + \" female smokers, which is \" + str(round(female_smokers_count/number_of_smokers*100,1)) + \"% of the total smokers.\")"
   ]
  },
  {
   "cell_type": "markdown",
   "metadata": {},
   "source": [
    "## Regions"
   ]
  },
  {
   "cell_type": "code",
   "execution_count": 10,
   "metadata": {},
   "outputs": [
    {
     "name": "stdout",
     "output_type": "stream",
     "text": [
      "From NorthWestern region there are 325 individuals, which is the 24.3% of the total population.\n",
      "From SouthWestern region there are 325 individuals, which is the 24.3% of the total population.\n",
      "From NorthEastern region there are 324 individuals, which is the 24.2% of the total population.\n",
      "From SouthEastern region there are 364 individuals, which is the 27.2% of the total population.\n"
     ]
    }
   ],
   "source": [
    "# counting the number of residents in selected regions\n",
    "northwest = region.count(\"northwest\")\n",
    "southwest = region.count(\"southwest\")\n",
    "northeast = region.count(\"northeast\")\n",
    "southeast = region.count(\"southeast\")\n",
    "\n",
    "print(\"From NorthWestern region there are \" + str(northwest) + \" individuals, which is the \"+ str(round(northwest/num_of_population*100,1)) + \"% of the total population.\")\n",
    "print(\"From SouthWestern region there are \" + str(southwest) + \" individuals, which is the \"+ str(round(southwest/num_of_population*100,1)) + \"% of the total population.\")\n",
    "print(\"From NorthEastern region there are \" + str(northeast) + \" individuals, which is the \"+ str(round(northeast/num_of_population*100,1)) + \"% of the total population.\")\n",
    "print(\"From SouthEastern region there are \" + str(southeast) + \" individuals, which is the \"+ str(round(southeast/num_of_population*100,1)) + \"% of the total population.\")"
   ]
  },
  {
   "cell_type": "markdown",
   "metadata": {},
   "source": [
    "## Insurance Costs"
   ]
  },
  {
   "cell_type": "code",
   "execution_count": 11,
   "metadata": {
    "scrolled": true
   },
   "outputs": [
    {
     "name": "stdout",
     "output_type": "stream",
     "text": [
      "Total value of annual insurance costs is $17755824.99.\n",
      "Average annual insurance cost is $13270.42,\n",
      "the highest annual insurance cost someone pays is $63770.43,\n",
      "while the lowest annual insurance cost someone pays is $1121.87.\n",
      "Median insurance cost is $9391.346 dollars.\n"
     ]
    }
   ],
   "source": [
    "# calculating total sum of charges\n",
    "charges_total = sum(charges)\n",
    "avg_charge = sum(charges) / len(charges)\n",
    "max_charge = max(charges)\n",
    "min_charge = min(charges)\n",
    "sorted_charges = sorted(charges)\n",
    "median_charges = sorted_charges[int(round((len(charges)+1)/2,0))]\n",
    "\n",
    "print(\"Total value of annual insurance costs is $\" + str(round(charges_total,2)) + \".\")\n",
    "print(\"Average annual insurance cost is $\" + str(round(avg_charge,2)) + \",\")\n",
    "print(\"the highest annual insurance cost someone pays is $\" + str(round(max_charge,2)) + \",\")\n",
    "print(\"while the lowest annual insurance cost someone pays is $\" + str(round(min_charge,2)) + \".\")\n",
    "print('Median insurance cost is $' + str(median_charges) + ' dollars.')"
   ]
  },
  {
   "cell_type": "code",
   "execution_count": 50,
   "metadata": {},
   "outputs": [],
   "source": [
    "def higher_cost_analysis(threshold, age, sex, bmi, children, smoker,region, charges, num_of_population):\n",
    "    # The \"higher_\" prefix of each of the following variables reminds us that we are analyzing people with high insurance costs\n",
    "    higher_tot = 0 # total number of individuals paying a insurance cost >= treshold\n",
    "    higher_charges_tot = 0 # variable that will give the average insurance charge\n",
    "    higher_males = 0 # counter for male individuals\n",
    "    higher_females = 0 # counter for female individuals\n",
    "    higher_smoker = 0 # conuter for smoker individuals\n",
    "    higher_children = 0 # variable that will give the average number of children\n",
    "    higher_bmi = 0 # variable that will give the average bmi\n",
    "    higher_age = 0 # variable that will give the average age\n",
    "    # 4 variables detecting the region the individuals come from\n",
    "    higher_ne = 0\n",
    "    higher_se = 0\n",
    "    higher_nw = 0\n",
    "    higher_sw = 0\n",
    "    for index in range(num_of_population):\n",
    "        if charges[index] >= threshold:\n",
    "            higher_tot += 1 # increment the number of individuals with insurance costs >= threshold\n",
    "            higher_charges_tot += charges[index]\n",
    "            higher_age += age[index]\n",
    "            # let's find if they are male or female\n",
    "            if sex[index] == 'male':\n",
    "                higher_males += 1\n",
    "            else:\n",
    "                higher_females += 1\n",
    "            # let's find if they are smokers\n",
    "            if smoker[index] == 'yes':\n",
    "                higher_smoker += 1\n",
    "            # let's sum the number of children\n",
    "            higher_children += children[index]\n",
    "            \n",
    "            #let's sum the bmi\n",
    "            higher_bmi += bmi[index]\n",
    "            \n",
    "            # finally, let's definre which region they come from\n",
    "            if region[index] == 'northwest':\n",
    "                higher_nw += 1\n",
    "            elif region[index] == 'northeast':\n",
    "                higher_ne += 1\n",
    "            elif region[index] == 'southwest':\n",
    "                higher_sw += 1\n",
    "            elif region[index] == 'southeast':\n",
    "                higher_se += 1\n",
    "\n",
    "    print('Individuals that pay more for health insurance inside the population are: \\n')\n",
    "    # males vs females\n",
    "    if higher_males > higher_females:\n",
    "         print('\\t - Mainly male, with a percentage of ' + str(round(higher_males/higher_tot*100,1)) + '%\\n')\n",
    "    elif higher_males < higher_females:\n",
    "        print('\\t - Mainly female, with a percentage of ' + str(round(higher_females/higher_tot*100,1)) + '%\\n')\n",
    "    else:\n",
    "        print('\\t - Equally distributed between man and women\\n')\n",
    "    \n",
    "    # age\n",
    "    print('\\t - ' + str(round(higher_age/higher_tot,1)) + ' years old in average\\n')\n",
    "    \n",
    "    # smoker vs non-smoker\n",
    "    print('\\t - Smoking in the ' + str(round(higher_smoker/higher_tot*100,1)) + '% of the cases\\n')\n",
    "            \n",
    "    # bmi\n",
    "    print('\\t - With an average bmi of ' + str(round(higher_bmi/higher_tot,1)) + '\\n')\n",
    "                  \n",
    "    # children\n",
    "    print('\\t - With an average of ' + str(round(higher_children/higher_tot,1)) + ' children\\n')\n",
    "                  \n",
    "    # region\n",
    "    print('\\t - Geographically distributed in the following way:\\n')\n",
    "    print('\\t \\t * Northwest: ' + str(round(higher_nw/higher_tot*100,1)) + '%\\n')\n",
    "    print('\\t \\t * Northeast: ' + str(round(higher_ne/higher_tot*100,1)) + '%\\n')\n",
    "    print('\\t \\t * Southwest: ' + str(round(higher_sw/higher_tot*100,1)) + '%\\n')\n",
    "    print('\\t \\t * Southeast: ' + str(round(higher_se/higher_tot*100,1)) + '%\\n')\n",
    "            \n",
    "    # mean insurance cost\n",
    "    print('Those individuals pay for health insurance in average $' + str(round(higher_charges_tot/higher_tot,1)) + '.')"
   ]
  },
  {
   "cell_type": "code",
   "execution_count": 51,
   "metadata": {},
   "outputs": [
    {
     "name": "stdout",
     "output_type": "stream",
     "text": [
      "Individuals that pay more for health insurance inside the population are: \n",
      "\n",
      "\t - Mainly male, with a percentage of 52.6%\n",
      "\n",
      "\t - 42.5 years old in average\n",
      "\n",
      "\t - Smoking in the 65.0% of the cases\n",
      "\n",
      "\t - With an average bmi of 31.0\n",
      "\n",
      "\t - With an average of 1.1 children\n",
      "\n",
      "\t - Geographically distributed in the following way:\n",
      "\n",
      "\t \t * Northwest: 22.9%\n",
      "\n",
      "\t \t * Northeast: 26.0%\n",
      "\n",
      "\t \t * Southwest: 20.2%\n",
      "\n",
      "\t \t * Southeast: 31.0%\n",
      "\n",
      "Those individuals pay for health insurance in average $27751.3.\n"
     ]
    }
   ],
   "source": [
    "threshold = round(charges_total/num_of_population,1)\n",
    "higher_cost_analysis(threshold, age, sex, bmi, children, smoker,region, charges, num_of_population)"
   ]
  },
  {
   "cell_type": "markdown",
   "metadata": {},
   "source": [
    "## Conclusion"
   ]
  },
  {
   "cell_type": "markdown",
   "metadata": {},
   "source": [
    "Looking at the results, we can observe that:\n",
    "\n",
    "+ gender doesn't describe a higher cost of the health insurance,\n",
    "+ smoking impacts the insurance costs,\n",
    "+ the average bmi is in the \"Mild Obesity\" range,\n",
    "+ number of children doesn't impact the cost of health insurance,\n",
    "+ higher insurance costs are paid in Southeastern region\n",
    "\n"
   ]
  },
  {
   "cell_type": "code",
   "execution_count": 52,
   "metadata": {},
   "outputs": [],
   "source": [
    "def deepen_region_analysis(target, ages, bmi, children, smoker, region, charges, total_population):\n",
    "    # Let's find out the smoking level, mean # of children and mean bmi in the Southwest region\n",
    "    sw_total = 0\n",
    "    sw_smoker = 0\n",
    "    sw_children = 0\n",
    "    sw_bmi = 0\n",
    "    sw_age = 0\n",
    "    sw_age_list =[]\n",
    "    for index in range(total_population):\n",
    "        # select only individuals from southwest region\n",
    "        if region[index] == target:\n",
    "            sw_total += 1\n",
    "            sw_age += ages[index]\n",
    "            sw_age_list.append(ages[index])\n",
    "            # let's find if they are smokers\n",
    "            if smoker[index] == 'yes':\n",
    "                sw_smoker += 1\n",
    "            # let's sum the number of children\n",
    "            sw_children += children[index]\n",
    "            \n",
    "            #let's sum the bmi\n",
    "            sw_bmi += bmi[index]\n",
    "    \n",
    "    # Print out the results\n",
    "    print('In the ' + target + ' region the ' + str(round(sw_smoker/sw_total*100,1)) + '% of the population smokes\\n')\n",
    "    print('The average age is: ' + str(round(sw_age/sw_total,1)) + '\\n')\n",
    "    print('The average bmi is: ' + str(round(sw_bmi/sw_total,1)) + '\\n')\n",
    "    print('The average number of children is: ' + str(round(sw_children/sw_total,1)) + '\\n')"
   ]
  },
  {
   "cell_type": "code",
   "execution_count": 53,
   "metadata": {},
   "outputs": [
    {
     "name": "stdout",
     "output_type": "stream",
     "text": [
      "In the southeast region the 25.0% of the population smokes\n",
      "\n",
      "The average age is: 38.9\n",
      "\n",
      "The average bmi is: 33.4\n",
      "\n",
      "The average number of children is: 1.0\n",
      "\n"
     ]
    }
   ],
   "source": [
    "deepen_region_analysis('southeast', age, bmi, children, smoker, region, charges, num_of_population)"
   ]
  },
  {
   "cell_type": "code",
   "execution_count": 54,
   "metadata": {},
   "outputs": [
    {
     "name": "stdout",
     "output_type": "stream",
     "text": [
      "In the southwest region the 17.8% of the population smokes\n",
      "\n",
      "The average age is: 39.5\n",
      "\n",
      "The average bmi is: 30.6\n",
      "\n",
      "The average number of children is: 1.1\n",
      "\n"
     ]
    }
   ],
   "source": [
    "deepen_region_analysis('southwest', age, bmi, children, smoker, region, charges, num_of_population)"
   ]
  },
  {
   "cell_type": "code",
   "execution_count": 55,
   "metadata": {},
   "outputs": [
    {
     "name": "stdout",
     "output_type": "stream",
     "text": [
      "In the northwest region the 17.8% of the population smokes\n",
      "\n",
      "The average age is: 39.2\n",
      "\n",
      "The average bmi is: 29.2\n",
      "\n",
      "The average number of children is: 1.1\n",
      "\n"
     ]
    }
   ],
   "source": [
    "deepen_region_analysis('northwest', age, bmi, children, smoker, region, charges, num_of_population)"
   ]
  },
  {
   "cell_type": "code",
   "execution_count": 56,
   "metadata": {},
   "outputs": [
    {
     "name": "stdout",
     "output_type": "stream",
     "text": [
      "In the northeast region the 20.7% of the population smokes\n",
      "\n",
      "The average age is: 39.3\n",
      "\n",
      "The average bmi is: 29.2\n",
      "\n",
      "The average number of children is: 1.0\n",
      "\n"
     ]
    }
   ],
   "source": [
    "deepen_region_analysis('northeast', age, bmi, children, smoker, region, charges, num_of_population)"
   ]
  },
  {
   "cell_type": "markdown",
   "metadata": {},
   "source": [
    "Regarding the Southeastern region, which has higher medical insurance prices, it can be see above, that southeastern region has among other regions, the highest percentage of the smoking population (25%), as well as the above average BMI score of 33.4.\n",
    "\n",
    "As a conclusion, if any of the consumers would be wondering how to decrease the amount of annual medical insurance costs, we would suggest them to stop smoking, and switch to a more healthier lifestyle, in example start exercising, playing a sport or eating less calories to decrease their BMI score."
   ]
  },
  {
   "cell_type": "code",
   "execution_count": null,
   "metadata": {},
   "outputs": [],
   "source": []
  }
 ],
 "metadata": {
  "kernelspec": {
   "display_name": "Python 3",
   "language": "python",
   "name": "python3"
  },
  "language_info": {
   "codemirror_mode": {
    "name": "ipython",
    "version": 3
   },
   "file_extension": ".py",
   "mimetype": "text/x-python",
   "name": "python",
   "nbconvert_exporter": "python",
   "pygments_lexer": "ipython3",
   "version": "3.8.8"
  }
 },
 "nbformat": 4,
 "nbformat_minor": 4
}
